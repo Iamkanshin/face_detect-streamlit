{
 "cells": [
  {
   "cell_type": "code",
   "execution_count": 19,
   "metadata": {},
   "outputs": [],
   "source": [
    "import requests\n",
    "import io\n",
    "from PIL import Image\n",
    "from PIL import ImageDraw"
   ]
  },
  {
   "cell_type": "code",
   "execution_count": 18,
   "metadata": {},
   "outputs": [
    {
     "ename": "SyntaxError",
     "evalue": "invalid syntax (<ipython-input-18-288e66b799d2>, line 17)",
     "output_type": "error",
     "traceback": [
      "\u001b[1;36m  File \u001b[1;32m\"<ipython-input-18-288e66b799d2>\"\u001b[1;36m, line \u001b[1;32m17\u001b[0m\n\u001b[1;33m    ags=ag[]\u001b[0m\n\u001b[1;37m           ^\u001b[0m\n\u001b[1;31mSyntaxError\u001b[0m\u001b[1;31m:\u001b[0m invalid syntax\n"
     ]
    }
   ],
   "source": [
    "subscription_key='84b059f0bedd4a9fac76fc104fad52c7'\n",
    "assert subscription_key\n",
    "face_api_url= 'https://20210117.cognitiveservices.azure.com/face/v1.0/detect'\n",
    "img=Image.open('sample02.jpg')\n",
    "with io.BytesIO() as output: \n",
    "    img.save(output,format='JPEG')\n",
    "    binary_img=output.getvalue()\n",
    "    \n",
    "headers={'Content-Type':'application/octet-stream',\n",
    "        'Ocp-Apim-Subscription-Key':subscription_key}\n",
    "params={'returnFaceId':'true',\n",
    "        'returnFaceAttributes':'age,gender,headPose,smile,facialHair,glasses,emotion,hair,makeup,occlusion'}\n",
    "\n",
    "res=requests.post(face_api_url,params=params,headers=headers,data=binary_img)\n",
    "\n",
    "results=res.json()\n",
    "\n",
    "ags=[]\n",
    "\n",
    "for result in results:\n",
    "    rect=result['faceRectangle']\n",
    "    at=result['faceAttributes']\n",
    "    ag=at['age']\n",
    "    \n",
    "    ags= ag.append(result)\n",
    "    \n",
    "    draw=ImageDraw.Draw(img)\n",
    "    draw.rectangle([(rect['left'],rect['top']),(rect['left']+rect['width'],rect['top']+rect['height'])],\n",
    "                   fill=None,outline='green',width=5)\n",
    "    \n",
    "    print(ag)\n",
    "\n",
    "print(ags)\n",
    "\n",
    "\n",
    "img\n",
    "\n"
   ]
  },
  {
   "cell_type": "code",
   "execution_count": null,
   "metadata": {},
   "outputs": [],
   "source": []
  },
  {
   "cell_type": "code",
   "execution_count": null,
   "metadata": {},
   "outputs": [],
   "source": []
  },
  {
   "cell_type": "code",
   "execution_count": null,
   "metadata": {},
   "outputs": [],
   "source": []
  }
 ],
 "metadata": {
  "kernelspec": {
   "display_name": "Python 3",
   "language": "python",
   "name": "python3"
  },
  "language_info": {
   "codemirror_mode": {
    "name": "ipython",
    "version": 3
   },
   "file_extension": ".py",
   "mimetype": "text/x-python",
   "name": "python",
   "nbconvert_exporter": "python",
   "pygments_lexer": "ipython3",
   "version": "3.8.3"
  }
 },
 "nbformat": 4,
 "nbformat_minor": 4
}
